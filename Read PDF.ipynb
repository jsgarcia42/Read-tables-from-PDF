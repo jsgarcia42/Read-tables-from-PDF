{
 "cells": [
  {
   "cell_type": "markdown",
   "id": "428100d6",
   "metadata": {},
   "source": [
    "# Get first page table"
   ]
  },
  {
   "cell_type": "code",
   "execution_count": null,
   "id": "9eadce44",
   "metadata": {
    "scrolled": true
   },
   "outputs": [],
   "source": [
    "import tabula\n",
    "import pandas as pd \n",
    "\n",
    "# get first page table\n",
    "lista_tabelas = tabula.read_pdf(\"Tabela.pdf\", pages=\"1\", area=[[136,500,1521,1050]], pandas_options={'header': None})\n",
    "\n",
    "# set columns names\n",
    "head = ['IP','Potência','Lumens','Temp/cor','Base','Angulo','Valor Unit','Qtd p cx']\n",
    "\n",
    "# rename all tables columns\n",
    "for tabela in lista_tabelas:\n",
    "    tabela.columns = head\n",
    "\n",
    "# create a df to receive table\n",
    "df1 = pd.DataFrame(lista_tabelas[0])\n",
    "df1 = df1[2:]\n",
    "\n",
    "display(df1)"
   ]
  },
  {
   "cell_type": "markdown",
   "id": "ca738804",
   "metadata": {},
   "source": [
    "# Get all tables after first page"
   ]
  },
  {
   "cell_type": "code",
   "execution_count": null,
   "id": "b45c78d8",
   "metadata": {
    "scrolled": true
   },
   "outputs": [],
   "source": [
    "# get remaining table\n",
    "lista_tabelas2 = tabula.read_pdf(\"Tabela.pdf\", pages=\"2-25\", area=[[0,500,1526,1050]], pandas_options={'header': None})\n",
    "\n",
    "# create df\n",
    "df2 = pd.DataFrame() \n",
    "\n",
    "# rename all tables columns and append tables to df\n",
    "for tabela in lista_tabelas2:\n",
    "    tabela.columns = head \n",
    "    df2 = df2.append(tabela, ignore_index=True)\n",
    "    \n",
    "display(df2)"
   ]
  },
  {
   "cell_type": "markdown",
   "id": "81cea85f",
   "metadata": {},
   "source": [
    "# Append first table with other tables"
   ]
  },
  {
   "cell_type": "code",
   "execution_count": null,
   "id": "aeb19ef3",
   "metadata": {},
   "outputs": [],
   "source": [
    "# create a list with both df\n",
    "listafulltable = [df1,df2]\n",
    "\n",
    "# create a df to receive all data\n",
    "df_full = pd.DataFrame()\n",
    "\n",
    "# append first table with all remaining tables\n",
    "for tabela in listafulltable:\n",
    "    df_full = df_full.append(tabela, ignore_index=True)\n",
    "\n",
    "df_full"
   ]
  },
  {
   "cell_type": "markdown",
   "id": "281ccc54",
   "metadata": {},
   "source": [
    "# Get first column for pdf"
   ]
  },
  {
   "cell_type": "code",
   "execution_count": null,
   "id": "c26b27f1",
   "metadata": {
    "scrolled": true
   },
   "outputs": [],
   "source": [
    "# get data from first column (products ID)\n",
    "lista_tabelas3 = tabula.read_pdf(\"Tabela.pdf\", pages=\"1-25\", area=[[0,110,1530,470]],pandas_options={'header': None})\n",
    "\n",
    "# create a df\n",
    "df3 = pd.DataFrame()\n",
    "\n",
    "# append tables in df\n",
    "for tabela in lista_tabelas3:\n",
    "    df3 = df3.append(tabela,ignore_index=True)\n",
    "\n",
    "# removing two columns and let only column we need\n",
    "df3 = df3.drop([1,2], axis=1)\n",
    "\n",
    "# remove rows\n",
    "df3 = df3.dropna()\n",
    "\n",
    "# rename column\n",
    "df3.rename(columns={0:'ID'}, inplace=True)\n",
    "df3 = df3.reset_index(drop=True)\n",
    "\n",
    "df3\n"
   ]
  },
  {
   "cell_type": "markdown",
   "id": "3e78e2e1",
   "metadata": {},
   "source": [
    "# Put first colum and remaining data in same dataframe"
   ]
  },
  {
   "cell_type": "code",
   "execution_count": null,
   "id": "d2916fda",
   "metadata": {
    "scrolled": true
   },
   "outputs": [],
   "source": [
    "# create and assign a new column\n",
    "df_full[['ID']] = df3['ID']\n",
    "\n",
    "# change order of dataframe columns\n",
    "df_full = df_full[['ID','IP','Potência','Lumens','Temp/cor','Base','Angulo','Valor Unit','Qtd p cx']]\n",
    "\n",
    "df_full"
   ]
  },
  {
   "cell_type": "markdown",
   "id": "de3b108a",
   "metadata": {},
   "source": [
    "# Get last column"
   ]
  },
  {
   "cell_type": "code",
   "execution_count": null,
   "id": "40994d51",
   "metadata": {},
   "outputs": [],
   "source": [
    "# get first page table\n",
    "lista_tabelas5 = tabula.read_pdf(\"Tabela.pdf\", pages=\"1\", area=[[216,173,1540,470]],pandas_options={'header': None})\n",
    "\n",
    "# put table in a df\n",
    "df5 = pd.DataFrame(lista_tabelas5[0])\n",
    "\n",
    "# add a row at top of dataframe to adjust a missing data\n",
    "df5.loc[-1] = ['teste'] \n",
    "# shifting index\n",
    "df5.index = df5.index + 1  \n",
    "df5.sort_index(inplace=True)\n",
    "\n",
    "# add a row at final of dataframe to adjust a missing data\n",
    "df5 = df5.append({0:'teste'}, ignore_index=True)\n",
    "\n",
    "### get tables from all remaining pages ###\n",
    "lista_tabelas4 = tabula.read_pdf(\"Tabela.pdf\", pages=\"2-25\", area=[[0,173,1530,470]],pandas_options={'header': None})\n",
    "\n",
    "# create df to receive all data\n",
    "df_full2 = pd.DataFrame()\n",
    "\n",
    "# create df to adjust some data before append\n",
    "dfTemporary = pd.DataFrame()\n",
    "\n",
    "# create df to receive tables from all remaining page\n",
    "df4 = pd.DataFrame()\n",
    "\n",
    "# handle the data from tables and append in df\n",
    "for tabela in lista_tabelas4:\n",
    "    dfTemporary = tabela  # put table in temporary df\n",
    "    dfTemporary.loc[-1] = ['teste']  # adding a row\n",
    "    dfTemporary.index = dfTemporary.index + 1  # shifting index\n",
    "    dfTemporary.sort_index(inplace=True)\n",
    "    df4 = df4.append(dfTemporary,ignore_index=True) # append\n",
    "\n",
    "# append df with all data from first pdf page and remaining pages\n",
    "df_full2 = df5.append(df4,ignore_index=True)\n",
    "\n",
    "# rename column\n",
    "df_full2.rename(columns={0:'Codigo'}, inplace=True)\n",
    "df_full2 = df_full2.reset_index(drop=True)\n",
    "\n",
    "df_full2"
   ]
  },
  {
   "cell_type": "markdown",
   "id": "88ce8647",
   "metadata": {},
   "source": [
    "# Save as CSV"
   ]
  },
  {
   "cell_type": "code",
   "execution_count": null,
   "id": "51c6372c",
   "metadata": {},
   "outputs": [],
   "source": [
    "# save final dataframes as csv\n",
    "df_full.to_csv(r\"C:\\Users\\jheff\\Desktop\\dffull.csv\")\n",
    "df_full2.to_csv(r\"C:\\Users\\jheff\\Desktop\\dffull2.csv\")\n",
    "\n",
    "print(\"CSV's salvos =D\")"
   ]
  }
 ],
 "metadata": {
  "kernelspec": {
   "display_name": "Python 3",
   "language": "python",
   "name": "python3"
  },
  "language_info": {
   "codemirror_mode": {
    "name": "ipython",
    "version": 3
   },
   "file_extension": ".py",
   "mimetype": "text/x-python",
   "name": "python",
   "nbconvert_exporter": "python",
   "pygments_lexer": "ipython3",
   "version": "3.8.8"
  }
 },
 "nbformat": 4,
 "nbformat_minor": 5
}
